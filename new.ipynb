{
 "cells": [
  {
   "cell_type": "code",
   "execution_count": null,
   "metadata": {},
   "outputs": [],
   "source": [
    "#importing stuff and setting global variables\n",
    "import cv2 as cv# for realtime processing\n",
    "import math\n",
    "import mediapipe as mp# fro AI \n",
    "#import pyautogui as py#yeh screenshot k liay hai\n",
    "# from mediapipe_model_maker import gesture_recognizer"
   ]
  },
  {
   "cell_type": "markdown",
   "metadata": {},
   "source": [
    "The Code below i for creating the task or i would say a medol instance for recognizing guestures for a curstom data set\n",
    "First piece of code is to load data from a folder into variable data and than split it into testing and training data\n",
    "Next peice of code of is Training data than testing data data and finally exporting the model "
   ]
  },
  {
   "cell_type": "code",
   "execution_count": null,
   "metadata": {},
   "outputs": [],
   "source": [
    "# IMAGES_PATH = \"rps_data_sample\"\n",
    "# data = gesture_recognizer.Dataset.from_folder(\n",
    "#     dirname=IMAGES_PATH,\n",
    "#     hparams=gesture_recognizer.HandDataPreprocessingParams()\n",
    "# )\n",
    "# # Split the archive into training, validation and test dataset.\n",
    "# train_data, rest_data = data.split(0.8)\n",
    "# validation_data, test_data = rest_data.split(0.5)"
   ]
  },
  {
   "cell_type": "code",
   "execution_count": null,
   "metadata": {},
   "outputs": [],
   "source": [
    "# hparams = gesture_recognizer.HParams(export_dir=\"rock_paper_scissors_model\")\n",
    "# options = gesture_recognizer.GestureRecognizerOptions(hparams=hparams)\n",
    "# model = gesture_recognizer.GestureRecognizer.create(\n",
    "#     train_data=train_data,\n",
    "#     validation_data=validation_data,\n",
    "#     options=options\n",
    "# )"
   ]
  },
  {
   "cell_type": "code",
   "execution_count": null,
   "metadata": {},
   "outputs": [],
   "source": [
    "# loss, acc = model.evaluate(test_data, batch_size=1)\n",
    "# print(f\"Test loss:{loss}, Test accuracy:{acc}\")"
   ]
  },
  {
   "cell_type": "code",
   "execution_count": null,
   "metadata": {},
   "outputs": [],
   "source": [
    "# model.export_model()"
   ]
  },
  {
   "cell_type": "markdown",
   "metadata": {},
   "source": [
    "The code below is for drawing landmarks on real time frame"
   ]
  },
  {
   "cell_type": "code",
   "execution_count": null,
   "metadata": {},
   "outputs": [],
   "source": [
    "mp_holistic = mp.solutions.holistic\n",
    "\n",
    "mp_drawing = mp.solutions.drawing_utils\n",
    "def hand_detector(frame,holistic):\n",
    "    frame_rgb = cv.cvtColor(frame, cv.COLOR_BGR2RGB)\n",
    "    results = holistic.process(frame_rgb)\n",
    "\n",
    "    ## for drawing left hand\n",
    "    if results.left_hand_landmarks:\n",
    "        mp_drawing.draw_landmarks(frame, results.left_hand_landmarks, mp_holistic.HAND_CONNECTIONS,\n",
    "                                  mp_drawing.DrawingSpec(color=(255, 0, 0), thickness=2, circle_radius=4),\n",
    "                                  mp_drawing.DrawingSpec(color=(255, 255, 255), thickness=2, circle_radius=2))\n",
    "        \n",
    "    ## From drawing right hand\n",
    "    if results.right_hand_landmarks:\n",
    "        mp_drawing.draw_landmarks(frame, results.right_hand_landmarks, mp_holistic.HAND_CONNECTIONS,\n",
    "                                  mp_drawing.DrawingSpec(color=(255, 0, 0), thickness=2, circle_radius=4),\n",
    "                                  mp_drawing.DrawingSpec(color=(255, 255, 255), thickness=2, circle_radius=2))\n",
    "    \n",
    "        \n",
    "    return frame"
   ]
  },
  {
   "cell_type": "markdown",
   "metadata": {},
   "source": [
    "The code bellow is load the model and use it for real-time and making it ready for real time camera application"
   ]
  },
  {
   "cell_type": "code",
   "execution_count": null,
   "metadata": {},
   "outputs": [],
   "source": [
    "BaseOptions = mp.tasks.BaseOptions\n",
    "GestureRecognizer = mp.tasks.vision.GestureRecognizer\n",
    "GestureRecognizerOptions = mp.tasks.vision.GestureRecognizerOptions\n",
    "GestureRecognizerResult = mp.tasks.vision.GestureRecognizerResult\n",
    "VisionRunningMode = mp.tasks.vision.RunningMode\n",
    "result_name = [None,0]\n",
    "def print_result(result: GestureRecognizerResult, output_image: mp.Image, timestamp_ms: int):\n",
    "     #print('gesture recognition result: {}'.format(result))\n",
    "     if len(result.gestures) and len(result.gestures[0]):\n",
    "      gesture = result.gestures[0][0]\n",
    "      if result_name[0] != gesture.category_name:\n",
    "         result_name[0] = gesture.category_name\n",
    "         result_name[1] = 0\n",
    "      else:\n",
    "         result_name[1] += 1\n",
    "      print(gesture.category_name,result_name[1])\n",
    "        \n",
    "     else:\n",
    "        result_name[0] = None\n",
    "        result_name[1] = 0\n",
    "\n",
    "\n",
    "\n",
    "    \n",
    "\n",
    "options = GestureRecognizerOptions(\n",
    "    base_options=BaseOptions(model_asset_path='exported_model/gesture_recognizer.task'),\n",
    "    running_mode=VisionRunningMode.LIVE_STREAM,result_callback=print_result\n",
    "    )\n",
    "recognizer =  GestureRecognizer.create_from_options(options) \n",
    "timestamp = 0"
   ]
  },
  {
   "cell_type": "code",
   "execution_count": null,
   "metadata": {},
   "outputs": [],
   "source": [
    "mp_holistic = mp.solutions.holistic\n",
    "mp_drawing = mp.solutions.drawing_utils\n",
    "holistic = mp_holistic.Holistic(min_detection_confidence=0.7, min_tracking_confidence=0.8)\n",
    "cap = cv.VideoCapture(0)\n",
    "\n",
    "cap.set(cv.CAP_PROP_FRAME_HEIGHT,720)\n",
    "cap.set(cv.CAP_PROP_FRAME_WIDTH,1080)\n",
    "while cap.isOpened():\n",
    "    timestamp += 1\n",
    "    ret, frame = cap.read()\n",
    "    if not ret:\n",
    "        continue\n",
    "\n",
    "    mp_image = mp.Image(image_format=mp.ImageFormat.SRGB, data=frame)\n",
    "    recognition_result = recognizer.recognize_async(mp_image,timestamp)\n",
    "    #print(result_name[0])\n",
    "\n",
    "    frame = hand_detector(frame,holistic)\n",
    "\n",
    "    cv.imshow(\"Hand Sign Detection\", frame )    \n",
    "    if cv.waitKey(1) & 0xFF == ord('q') or (result_name[0] == \"scissors\" and result_name[1] > 6):\n",
    "        break\n",
    "\n",
    "    if result_name[0] == \"paper\" and result_name[1] > 6:\n",
    "        screenshot = py.screenshot()\n",
    "        screenshot.save(\"screenshot.png\")\n",
    "    \n",
    "        \n",
    "cap.release()\n",
    "cv.destroyAllWindows()\n"
   ]
  },
  {
   "cell_type": "code",
   "execution_count": null,
   "metadata": {},
   "outputs": [],
   "source": []
  },
  {
   "cell_type": "code",
   "execution_count": null,
   "metadata": {},
   "outputs": [],
   "source": []
  },
  {
   "cell_type": "code",
   "execution_count": null,
   "metadata": {},
   "outputs": [],
   "source": []
  },
  {
   "cell_type": "code",
   "execution_count": null,
   "metadata": {},
   "outputs": [],
   "source": [
    "\n",
    "\n"
   ]
  },
  {
   "cell_type": "code",
   "execution_count": null,
   "metadata": {},
   "outputs": [],
   "source": []
  }
 ],
 "metadata": {
  "kernelspec": {
   "display_name": "venv",
   "language": "python",
   "name": "python3"
  },
  "language_info": {
   "codemirror_mode": {
    "name": "ipython",
    "version": 3
   },
   "file_extension": ".py",
   "mimetype": "text/x-python",
   "name": "python",
   "nbconvert_exporter": "python",
   "pygments_lexer": "ipython3",
   "version": "3.11.4"
  }
 },
 "nbformat": 4,
 "nbformat_minor": 2
}
