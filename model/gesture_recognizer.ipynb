{
        "cells": [
                {
                        "cell_type": "markdown",
                        "metadata": {
                                "id": "Z-9BpIlqAZci"
                        },
                        "source": [
                                "Project: /mediapipe/_project.yaml\n",
                                "Book: /mediapipe/_book.yaml\n",
                                "\n",
                                "<link rel=\"stylesheet\" href=\"/mediapipe/site.css\">\n",
                                "\n",
                                "# Hand gesture recognition model customization guide\n",
                                "\n",
                                "<table align=\"left\" class=\"buttons\">\n",
                                "  <td>\n",
                                "    <a href=\"https://colab.research.google.com/github/googlesamples/mediapipe/blob/main/examples/customization/gesture_recognizer.ipynb\" target=\"_blank\">\n",
                                "      <img src=\"https://developers.google.com/static/mediapipe/solutions/customization/colab-logo-32px_1920.png\" alt=\"Colab logo\"> Run in Colab\n",
                                "    </a>\n",
                                "  </td>\n",
                                "\n",
                                "  <td>\n",
                                "    <a href=\"https://github.com/googlesamples/mediapipe/blob/main/examples/customization/gesture_recognizer.ipynb\" target=\"_blank\">\n",
                                "      <img src=\"https://developers.google.com/static/mediapipe/solutions/customization/github-logo-32px_1920.png\" alt=\"GitHub logo\">\n",
                                "      View on GitHub\n",
                                "    </a>\n",
                                "  </td>\n",
                                "</table>"
                        ]
                },
                {
                        "cell_type": "code",
                        "execution_count": null,
                        "metadata": {
                                "id": "JO1GUwC1_T2x"
                        },
                        "outputs": [],
                        "source": [
                                "#@title License information\n",
                                "# Copyright 2023 The MediaPipe Authors.\n",
                                "# Licensed under the Apache License, Version 2.0 (the \"License\");\n",
                                "#\n",
                                "# you may not use this file except in compliance with the License.\n",
                                "# You may obtain a copy of the License at\n",
                                "#\n",
                                "# https://www.apache.org/licenses/LICENSE-2.0\n",
                                "#\n",
                                "# Unless required by applicable law or agreed to in writing, software\n",
                                "# distributed under the License is distributed on an \"AS IS\" BASIS,\n",
                                "# WITHOUT WARRANTIES OR CONDITIONS OF ANY KIND, either express or implied.\n",
                                "# See the License for the specific language governing permissions and\n",
                                "# limitations under the License."
                        ]
                },
                {
                        "cell_type": "markdown",
                        "metadata": {
                                "id": "wFBcmjzf0JLE"
                        },
                        "source": [
                                "The MediaPipe Model Maker package is a low-code solution for customizing on-device machine learning (ML) Models.\n",
                                "\n",
                                "This notebook shows the end-to-end process of customizing a gesture recognizer model for recognizing some common hand gestures in the [HaGRID](https://www.kaggle.com/datasets/innominate817/hagrid-sample-30k-384p) dataset."
                        ]
                },
                {
                        "cell_type": "markdown",
                        "metadata": {
                                "id": "YGM0PT490LiR"
                        },
                        "source": [
                                "## Prerequisites"
                        ]
                },
                {
                        "cell_type": "markdown",
                        "metadata": {
                                "id": "cVVxZNfo0M0y"
                        },
                        "source": [
                                "Install the MediaPipe Model Maker package."
                        ]
                },
                {
                        "cell_type": "code",
                        "execution_count": null,
                        "metadata": {
                                "id": "6DBLRE-fqlO5"
                        },
                        "outputs": [],
                        "source": [
                                "!pip3 install --upgrade pip\n",
                                "!pip3 install mediapipe-model-maker"
                        ]
                },
                {
                        "cell_type": "markdown",
                        "metadata": {
                                "id": "v3CvTNmB1WiY"
                        },
                        "source": [
                                "Import the required libraries."
                        ]
                },
                {
                        "cell_type": "code",
                        "execution_count": null,
                        "metadata": {
                                "id": "c74UL9oI0VKU"
                        },
                        "outputs": [],
                        "source": [
                                "#from google.colab import files\n",
                                "import os\n",
                                "import tensorflow as tf\n",
                                "assert tf.__version__.startswith('2')\n",
                                "\n",
                                "from mediapipe_model_maker import gesture_recognizer\n",
                                "\n",
                                "import matplotlib.pyplot as plt"
                        ]
                },
                {
                        "cell_type": "markdown",
                        "metadata": {
                                "id": "IppoENBmAuFn"
                        },
                        "source": [
                                "## Simple End-to-End Example\n",
                                "\n",
                                "This end-to-end example uses Model Maker to customize a model for on-device gesture recognition."
                        ]
                },
                {
                        "cell_type": "markdown",
                        "metadata": {
                                "id": "i8fMLXTdD6tW"
                        },
                        "source": [
                                "### Get the dataset"
                        ]
                },
                {
                        "cell_type": "markdown",
                        "metadata": {
                                "id": "7TwDFilngzjs"
                        },
                        "source": [
                                "The dataset for gesture recognition in model maker requires the following format: `<dataset_path>/<label_name>/<img_name>.*`. In addition, one of the label names (`label_names`) must be `none`. The `none` label represents any gesture that isn't classified as one of the other gestures.\n",
                                "\n",
                                "This example uses a rock paper scissors dataset sample which is downloaded from GCS."
                        ]
                },
                {
                        "cell_type": "code",
                        "execution_count": null,
                        "metadata": {
                                "id": "6dwmyg5MnR_y"
                        },
                        "outputs": [],
                        "source": [
                                "# !wget https://storage.googleapis.com/mediapipe-tasks/gesture_recognizer/rps_data_sample.zip\n",
                                "# !unzip rps_data_sample.zip\n",
                                "dataset_path = \"datasets\""
                        ]
                },
                {
                        "cell_type": "code",
                        "execution_count": null,
                        "metadata": {},
                        "outputs": [],
                        "source": []
                },
                {
                        "cell_type": "code",
                        "execution_count": null,
                        "metadata": {},
                        "outputs": [],
                        "source": []
                },
                {
                        "cell_type": "markdown",
                        "metadata": {
                                "id": "iiWb9Tu3lBBI"
                        },
                        "source": [
                                "Verify the rock paper scissors dataset by printing the labels. There should be 4 gesture labels, with one of them being the `none` gesture."
                        ]
                },
                {
                        "cell_type": "code",
                        "execution_count": null,
                        "metadata": {
                                "id": "QgadM4VDj3Y2"
                        },
                        "outputs": [],
                        "source": [
                                "print(dataset_path)\n",
                                "labels = []\n",
                                "for i in os.listdir(dataset_path):\n",
                                "  if os.path.isdir(os.path.join(dataset_path, i)):\n",
                                "    labels.append(i)\n",
                                "print(labels)"
                        ]
                },
                {
                        "cell_type": "markdown",
                        "metadata": {
                                "id": "CA0o59OMjqmV"
                        },
                        "source": [
                                "To better understand the dataset, plot a couple of example images for each gesture."
                        ]
                },
                {
                        "cell_type": "code",
                        "execution_count": null,
                        "metadata": {
                                "id": "sx8PsrwYjvgO"
                        },
                        "outputs": [],
                        "source": [
                                "NUM_EXAMPLES = 10\n",
                                "\n",
                                "for label in labels:\n",
                                "  label_dir = os.path.join(dataset_path, label)\n",
                                "  example_filenames = os.listdir(label_dir)[:NUM_EXAMPLES]\n",
                                "  print(example_filenames)\n",
                                "  fig, axs = plt.subplots(1, NUM_EXAMPLES, figsize=(10,2))\n",
                                "  for i in range(NUM_EXAMPLES):\n",
                                "    axs[0].imshow(plt.imread(os.path.join(label_dir, example_filenames[0][i])))\n",
                                "    axs[0].get_xaxis().set_visible(False)\n",
                                "    axs[0].get_yaxis().set_visible(False)\n",
                                "  fig.suptitle(f'Showing {NUM_EXAMPLES} examples for {label}')\n",
                                "\n",
                                "plt.show()"
                        ]
                },
                {
                        "cell_type": "markdown",
                        "metadata": {
                                "id": "sWXwEXSXlg7d"
                        },
                        "source": [
                                "### Run the example\n",
                                "The workflow consists of 4 steps which have been separated into their own code blocks."
                        ]
                },
                {
                        "cell_type": "markdown",
                        "metadata": {
                                "id": "OF9ArLQXIu25"
                        },
                        "source": [
                                "**Load the dataset**\n",
                                "\n",
                                "Load the dataset located at `dataset_path` by using the `Dataset.from_folder` method. When loading the dataset, run the pre-packaged hand detection model from MediaPipe Hands to detect the hand landmarks from the images. Any images without detected hands are ommitted from the dataset. The resulting dataset will contain the extracted hand landmark positions from each image, rather than images themselves.\n",
                                "\n",
                                "The `HandDataPreprocessingParams` class contains two configurable options for the data loading process:\n",
                                "* `shuffle`: A boolean controlling whether to shuffle the dataset. Defaults to true.\n",
                                "* `min_detection_confidence`: A float between 0 and 1 controlling the confidence threshold for hand detection.\n",
                                "\n",
                                "Split the dataset: 80% for training, 10% for validation, and 10% for testing."
                        ]
                },
                {
                        "cell_type": "code",
                        "execution_count": null,
                        "metadata": {
                                "id": "aTTNZsolKXiT"
                        },
                        "outputs": [],
                        "source": [
                                "data = gesture_recognizer.Dataset.from_folder(\n",
                                "    dirname=dataset_path,\n",
                                "    hparams=gesture_recognizer.HandDataPreprocessingParams()\n",
                                ")\n",
                                "train_data, rest_data = data.split(0.8)\n",
                                "validation_data, test_data = rest_data.split(0.5)\n",
                                "\n"
                        ]
                },
                {
                        "cell_type": "markdown",
                        "metadata": {
                                "id": "ndTh_ZyEIeKV"
                        },
                        "source": [
                                "**Train the model**"
                        ]
                },
                {
                        "cell_type": "markdown",
                        "metadata": {
                                "id": "yAXWc3bv8hpe"
                        },
                        "source": [
                                "Train the custom gesture recognizer by using the create method and passing in the training data, validation data, model options, and hyperparameters. For more information on model options and hyperparameters, see the [Hyperparameters](#hyperparameters) section below."
                        ]
                },
                {
                        "cell_type": "code",
                        "execution_count": null,
                        "metadata": {
                                "id": "yk0UiRB6NZrb"
                        },
                        "outputs": [],
                        "source": [
                                "hparams = gesture_recognizer.HParams(export_dir=\"exportedModel\")\n",
                                "options = gesture_recognizer.GestureRecognizerOptions(hparams=hparams)\n",
                                "model = gesture_recognizer.GestureRecognizer.create(\n",
                                "    train_data=train_data,\n",
                                "    validation_data=validation_data,\n",
                                "    options=options\n",
                                ")"
                        ]
                },
                {
                        "cell_type": "markdown",
                        "metadata": {
                                "id": "nED7mdIO9YS6"
                        },
                        "source": [
                                "**Evaluate the model performance**\n",
                                "\n",
                                "After training the model, evaluate it on a test dataset and print the loss and accuracy metrics."
                        ]
                },
                {
                        "cell_type": "code",
                        "execution_count": null,
                        "metadata": {
                                "id": "OdOqllqx9YKy"
                        },
                        "outputs": [],
                        "source": [
                                "loss, acc = model.evaluate(test_data, batch_size=1)\n",
                                "print(f\"Test loss:{loss}, Test accuracy:{acc}\")"
                        ]
                },
                {
                        "cell_type": "markdown",
                        "metadata": {
                                "id": "vJLramjy9gvy"
                        },
                        "source": [
                                "**Export to Tensorflow Lite Model**\n",
                                "\n",
                                "After creating the model, convert and export it to a Tensorflow Lite model format for later use on an on-device application. The export also includes model metadata, which includes the label file."
                        ]
                },
                {
                        "cell_type": "code",
                        "execution_count": null,
                        "metadata": {
                                "id": "fmNaFXytijVg"
                        },
                        "outputs": [],
                        "source": [
                                "model.export_model()\n",
                                "!ls exportedModel"
                        ]
                },
                {
                        "cell_type": "code",
                        "execution_count": null,
                        "metadata": {
                                "id": "7yfN_47qjjOC"
                        },
                        "outputs": [],
                        "source": [
                                "files.download('exported_model/gesture_recognizer.task')"
                        ]
                },
                {
                        "cell_type": "markdown",
                        "metadata": {
                                "id": "ulqyNGmTCKeU"
                        },
                        "source": [
                                "## Run the model on-device\n",
                                "\n",
                                "To use the TFLite model for on-device usage through MediaPipe Tasks, refer to the Gesture Recognizer [overview page](https://developers.google.com/mediapipe/solutions/vision/gesture_recognizer)."
                        ]
                },
                {
                        "cell_type": "markdown",
                        "metadata": {
                                "id": "F1tiLGGRcvhy"
                        },
                        "source": [
                                "## Hyperparameters {:#hyperparameters}\n"
                        ]
                },
                {
                        "cell_type": "markdown",
                        "metadata": {
                                "id": "f1UMEG85hQL_"
                        },
                        "source": [
                                "You can further customize the model using the `GestureRecognizerOptions` class, which has two optional parameters for `ModelOptions` and `HParams`. Use the `ModelOptions` class to customize parameters related to the model itself, and the `HParams` class to customize other parameters related to training and saving the model.\n",
                                "\n",
                                "`ModelOptions` has one customizable parameter that affects accuracy:\n",
                                "* `dropout_rate`: The fraction of the input units to drop. Used in dropout layer. Defaults to 0.05.\n",
                                "* `layer_widths`: A list of hidden layer widths for the gesture model. Each element in the list will create a new hidden layer with the specified width. The hidden layers are separated with BatchNorm, Dropout, and ReLU. Defaults to an empty list(no hidden layers).\n",
                                "\n",
                                "`HParams` has the following list of customizable parameters which affect model accuracy:\n",
                                "* `learning_rate`: The learning rate to use for gradient descent training. Defaults to 0.001.\n",
                                "* `batch_size`: Batch size for training. Defaults to 2.\n",
                                "* `epochs`: Number of training iterations over the dataset. Defaults to 10.\n",
                                "* `steps_per_epoch`: An optional integer that indicates the number of training steps per epoch. If not set, the training pipeline calculates the default steps per epoch as the training dataset size divided by batch size.\n",
                                "* `shuffle`: True if the dataset is shuffled before training. Defaults to False.\n",
                                "* `lr_decay`: Learning rate decay to use for gradient descent training. Defaults to 0.99.\n",
                                "* `gamma`: Gamma parameter for focal loss. Defaults to 2\n",
                                "\n",
                                "Additional `HParams` parameter that does not affect model accuracy:\n",
                                "* `export_dir`: The location of the model checkpoint files and exported model files."
                        ]
                },
                {
                        "cell_type": "markdown",
                        "metadata": {
                                "id": "psvVZeSYBLfV"
                        },
                        "source": [
                                "For example, the following trains a new model with the dropout_rate of 0.2 and learning rate of 0.003."
                        ]
                },
                {
                        "cell_type": "code",
                        "execution_count": null,
                        "metadata": {
                                "id": "CxMOI8o6iNLu"
                        },
                        "outputs": [],
                        "source": [
                                "hparams = gesture_recognizer.HParams(learning_rate=0.003, export_dir=\"exported_model_2\")\n",
                                "model_options = gesture_recognizer.ModelOptions(dropout_rate=0.2)\n",
                                "options = gesture_recognizer.GestureRecognizerOptions(model_options=model_options, hparams=hparams)\n",
                                "model_2 = gesture_recognizer.GestureRecognizer.create(\n",
                                "    train_data=train_data,\n",
                                "    validation_data=validation_data,\n",
                                "    options=options\n",
                                ")"
                        ]
                },
                {
                        "cell_type": "markdown",
                        "metadata": {
                                "id": "3cekuTJiBbv9"
                        },
                        "source": [
                                "Evaluate the newly trained model."
                        ]
                },
                {
                        "cell_type": "code",
                        "execution_count": null,
                        "metadata": {
                                "id": "RRH96bm-BbAo"
                        },
                        "outputs": [],
                        "source": [
                                "loss, accuracy = model_2.evaluate(test_data)\n",
                                "print(f\"Test loss:{loss}, Test accuracy:{accuracy}\")"
                        ]
                }
        ],
        "metadata": {
                "colab": {
                        "last_runtime": {
                                "build_target": "",
                                "kind": "local"
                        },
                        "private_outputs": true,
                        "provenance": []
                },
                "kernelspec": {
                        "display_name": "Python 3",
                        "name": "python3"
                },
                "language_info": {
                        "codemirror_mode": {
                                "name": "ipython",
                                "version": 3
                        },
                        "file_extension": ".py",
                        "mimetype": "text/x-python",
                        "name": "python",
                        "nbconvert_exporter": "python",
                        "pygments_lexer": "ipython3",
                        "version": "3.10.12"
                }
        },
        "nbformat": 4,
        "nbformat_minor": 0
}
